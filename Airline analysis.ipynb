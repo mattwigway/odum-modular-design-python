{
 "cells": [
  {
   "cell_type": "markdown",
   "id": "304fddfe-2b7c-4892-9ed1-2dafe1c7b6b5",
   "metadata": {},
   "source": [
    "# Airline analysis\n",
    "\n",
    "Here, we want to look at what airports are most dominated by which airlines, using the same data. For simplicity, we only look at departing flights. Since most departing flights have a corresponding return flight, this should be fairly accurate."
   ]
  },
  {
   "cell_type": "code",
   "execution_count": null,
   "id": "4418a955-59c4-4a6a-ad54-a6c5066a4e68",
   "metadata": {},
   "outputs": [],
   "source": [
    "import pandas as pd\n",
    "import numpy as np"
   ]
  },
  {
   "cell_type": "markdown",
   "id": "76cea083-b107-488a-87db-7cb372392f0c",
   "metadata": {},
   "source": [
    "First, we need to load our data from the provided CSV files."
   ]
  },
  {
   "cell_type": "code",
   "execution_count": null,
   "id": "a03431fa-5c76-4caf-bd97-69a9afb8013d",
   "metadata": {},
   "outputs": [],
   "source": [
    "data = pd.read_csv(\"data/air_sample.csv\")"
   ]
  },
  {
   "cell_type": "code",
   "execution_count": null,
   "id": "13b18da5-b02c-4079-ac2f-d55f41a00bcb",
   "metadata": {},
   "outputs": [],
   "source": [
    "market_ids = pd.read_csv(\"data/L_CITY_MARKET_ID.csv\")\n",
    "\n",
    "data = data.merge(\n",
    "    market_ids.rename(columns={\"Description\": \"OriginCity\"}).set_index(\"Code\"),\n",
    "    left_on=\"OriginCityMarketID\",\n",
    "    right_index=True\n",
    ")\n",
    "\n",
    "data = data.merge(\n",
    "    market_ids.rename(columns={\"Description\": \"DestCity\"}).set_index(\"Code\"),\n",
    "    left_on=\"DestCityMarketID\",\n",
    "    right_index=True\n",
    ")"
   ]
  },
  {
   "cell_type": "code",
   "execution_count": null,
   "id": "ccaa01a6-3f60-404c-b6d6-9338236b5646",
   "metadata": {},
   "outputs": [],
   "source": [
    "carriers = pd.read_csv(\"data/L_CARRIERS.csv\")\n",
    "\n",
    "data = data.merge(\n",
    "    carriers.rename(columns={\"Description\": \"OperatingCarrierName\"}).set_index(\"Code\"),\n",
    "    left_on=\"OpCarrier\",\n",
    "    right_index=True\n",
    ")\n",
    "\n",
    "data = data.merge(\n",
    "    carriers.rename(columns={\"Description\": \"TicketingCarrierName\"}).set_index(\"Code\"),\n",
    "    left_on=\"TkCarrier\",\n",
    "    right_index=True\n",
    ")"
   ]
  },
  {
   "cell_type": "markdown",
   "id": "b5fa8323-8ad8-432e-913c-570892d59515",
   "metadata": {},
   "source": [
    "## Market shares\n",
    "\n",
    "Now, we compute market shares by airline."
   ]
  },
  {
   "cell_type": "code",
   "execution_count": null,
   "id": "fe8bfa14-a5ed-4677-9ccc-c4bcfe6348b1",
   "metadata": {},
   "outputs": [],
   "source": [
    "mkt_shares = (\n",
    "    data\n",
    "        .groupby([\"OriginCity\", \"OperatingCarrierName\"])\n",
    "        .Passengers\n",
    "        .sum()\n",
    "        .reset_index()\n",
    ")\n",
    "\n",
    "mkt_shares[\"market_share\"] = mkt_shares.Passengers / mkt_shares.groupby(\"OriginCity\").Passengers.transform(\"sum\")\n",
    "\n",
    "mkt_shares = mkt_shares.sort_values(\"market_share\", ascending=False)\n",
    "\n",
    "mkt_shares.loc[mkt_shares.Passengers > 1000]"
   ]
  },
  {
   "cell_type": "markdown",
   "id": "d4f64c7d-279b-4ca3-80d8-33c3926348df",
   "metadata": {},
   "source": [
    "### Accounting for regional carriers\n",
    "\n",
    "Many of the smaller airlines actually operate regional aircraft for larger carriers. For instance, PSA Airlines flies small aircraft for American Airlines, branded as American Eagle and sold with connections to/from American Airlines flights. Here, we repeat the analysis using the TicketingCarrierName instead of the OperatingCarrierName."
   ]
  },
  {
   "cell_type": "code",
   "execution_count": null,
   "id": "2c39d1c8-fe61-4463-b04d-c015548fffd7",
   "metadata": {},
   "outputs": [],
   "source": [
    "mkt_shares = (\n",
    "    data\n",
    "        .groupby([\"OriginCity\", \"TicketingCarrierName\"])\n",
    "        .Passengers\n",
    "        .sum()\n",
    "        .reset_index()\n",
    ")\n",
    "\n",
    "mkt_shares[\"market_share\"] = mkt_shares.Passengers / mkt_shares.groupby(\"OriginCity\").Passengers.transform(\"sum\")\n",
    "\n",
    "mkt_shares = mkt_shares.sort_values(\"market_share\", ascending=False)\n",
    "\n",
    "mkt_shares.loc[mkt_shares.Passengers > 1000]"
   ]
  },
  {
   "cell_type": "markdown",
   "id": "fb882e01-20ad-4cf2-a5c6-5dff1b936c90",
   "metadata": {},
   "source": [
    "For instance, American is now much more dominant in Charlotte than before."
   ]
  },
  {
   "cell_type": "code",
   "execution_count": null,
   "id": "af0e455b-4afd-488b-b593-2e33bbedb425",
   "metadata": {},
   "outputs": [],
   "source": []
  }
 ],
 "metadata": {
  "kernelspec": {
   "display_name": "Python [conda env:air-analysis]",
   "language": "python",
   "name": "conda-env-air-analysis-py"
  },
  "language_info": {
   "codemirror_mode": {
    "name": "ipython",
    "version": 3
   },
   "file_extension": ".py",
   "mimetype": "text/x-python",
   "name": "python",
   "nbconvert_exporter": "python",
   "pygments_lexer": "ipython3",
   "version": "3.12.0"
  }
 },
 "nbformat": 4,
 "nbformat_minor": 5
}
