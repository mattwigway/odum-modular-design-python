{
 "cells": [
  {
   "cell_type": "markdown",
   "metadata": {},
   "source": [
    "# Air analysis\n",
    "\n",
    "We have a 1% sample of all air legs flown in Q2 2022. We will use this to derive basic information about air flows in the US.\n",
    "\n",
    "This data is extracted from the Bureau of Transportation Statistics DB1B dataset."
   ]
  },
  {
   "cell_type": "code",
   "execution_count": null,
   "metadata": {},
   "outputs": [],
   "source": [
    "import pandas as pd\n",
    "import numpy as np"
   ]
  },
  {
   "cell_type": "markdown",
   "metadata": {},
   "source": [
    "First, we need to load our data from the provided CSV file."
   ]
  },
  {
   "cell_type": "code",
   "execution_count": null,
   "metadata": {},
   "outputs": [],
   "source": [
    "data = pd.read_csv(\"data/air_sample.csv\")"
   ]
  },
  {
   "cell_type": "markdown",
   "metadata": {},
   "source": [
    "We can look at a sample of the data to see what it looks like."
   ]
  },
  {
   "cell_type": "code",
   "execution_count": null,
   "metadata": {},
   "outputs": [],
   "source": [
    "data.iloc[0:10]"
   ]
  },
  {
   "cell_type": "markdown",
   "metadata": {},
   "source": [
    "The data have seven columns: origin and destination airport, origin and destination cities carrier, and distance. The city and carrier are coded, so we will merge in other (the airports have codes as well, but these are fairly well known - e.g. RDU is Raleigh-Durham and LAX is Los Angeles; we won't match those with the official airport names)"
   ]
  },
  {
   "cell_type": "code",
   "execution_count": null,
   "metadata": {},
   "outputs": [],
   "source": [
    "market_ids = pd.read_csv(\"data/L_CITY_MARKET_ID.csv\")\n",
    "\n",
    "data = data.merge(\n",
    "    market_ids.rename(columns={\"Description\": \"OriginCity\"}).set_index(\"Code\"),\n",
    "    left_on=\"OriginCityMarketID\",\n",
    "    right_index=True\n",
    ")\n",
    "\n",
    "data = data.merge(\n",
    "    market_ids.rename(columns={\"Description\": \"DestCity\"}).set_index(\"Code\"),\n",
    "    left_on=\"DestCityMarketID\",\n",
    "    right_index=True\n",
    ")"
   ]
  },
  {
   "cell_type": "code",
   "execution_count": null,
   "metadata": {},
   "outputs": [],
   "source": [
    "carriers = pd.read_csv(\"data/L_CARRIERS.csv\")\n",
    "\n",
    "data = data.merge(\n",
    "    carriers.rename(columns={\"Description\": \"OperatingCarrierName\"}).set_index(\"Code\"),\n",
    "    left_on=\"OpCarrier\",\n",
    "    right_index=True\n",
    ")\n",
    "\n",
    "data = data.merge(\n",
    "    carriers.rename(columns={\"Description\": \"TicketingCarrierName\"}).set_index(\"Code\"),\n",
    "    left_on=\"TkCarrier\",\n",
    "    right_index=True\n",
    ")"
   ]
  },
  {
   "cell_type": "markdown",
   "metadata": {},
   "source": [
    "## Most popular air routes\n",
    "\n",
    "Now, we can see what the most popular air routes are, by summing up the number of passengers carried."
   ]
  },
  {
   "cell_type": "code",
   "execution_count": null,
   "metadata": {},
   "outputs": [],
   "source": [
    "pairs = (\n",
    "    data\n",
    "        .groupby([\"Origin\", \"Dest\"], as_index=False)\n",
    "        .agg({\"Passengers\": \"sum\", \"Distance\": \"first\"})\n",
    "        .sort_values(\"Passengers\", ascending=False)\n",
    ")\n",
    "pairs"
   ]
  },
  {
   "cell_type": "markdown",
   "metadata": {},
   "source": [
    "We see that LAX-JFK (Los Angeles to New York Kennedy) is represented separately from JFK-LAX. We'd like to combine these two. Create airport1 and airport2 fields with the first and second airport in alphabetical order."
   ]
  },
  {
   "cell_type": "code",
   "execution_count": null,
   "metadata": {},
   "outputs": [],
   "source": [
    "data[\"airport1\"] = np.where(data.Origin < data.Dest, data.Origin, data.Dest)\n",
    "data[\"airport2\"] = np.where(data.Origin < data.Dest, data.Dest, data.Origin)"
   ]
  },
  {
   "cell_type": "markdown",
   "metadata": {},
   "source": [
    "Now, we repeat the analysis with our new columns."
   ]
  },
  {
   "cell_type": "code",
   "execution_count": null,
   "metadata": {},
   "outputs": [],
   "source": [
    "pairs = (\n",
    "    data\n",
    "        .groupby([\"airport1\", \"airport2\"], as_index=False)\n",
    "        .agg({\"Passengers\": \"sum\", \"Distance\": \"first\"})\n",
    "        .sort_values(\"Passengers\", ascending=False)\n",
    ")\n",
    "pairs"
   ]
  },
  {
   "cell_type": "markdown",
   "metadata": {},
   "source": [
    "## Market-level analysis\n",
    "\n",
    "This may be misleading, however, as some metropolitan areas have only one airport (for example, Raleigh-Durham or Las Vegas), while others have more (for example, New York or Los Angeles). We can repeat the analysis grouping by \"market\", which groups these airports together. Now, we can see what the most popular air route is, by summing up the number of passengers carried."
   ]
  },
  {
   "cell_type": "code",
   "execution_count": null,
   "metadata": {},
   "outputs": [],
   "source": [
    "data[\"city1\"] = np.where(data.OriginCity < data.DestCity, data.OriginCity, data.DestCity)\n",
    "data[\"city2\"] = np.where(data.OriginCity < data.DestCity, data.DestCity, data.OriginCity)"
   ]
  },
  {
   "cell_type": "code",
   "execution_count": null,
   "metadata": {},
   "outputs": [],
   "source": [
    "pairs = (\n",
    "    data\n",
    "        .groupby([\"city1\", \"city2\"], as_index=False)\n",
    "        .agg({\"Passengers\": \"sum\", \"Distance\": \"first\"})\n",
    "        .sort_values(\"Passengers\", ascending=False)\n",
    ")\n",
    "\n",
    "pairs[\"distance_km\"] = pairs.Distance * 1.609\n",
    "\n",
    "pairs"
   ]
  },
  {
   "cell_type": "code",
   "execution_count": null,
   "metadata": {},
   "outputs": [],
   "source": []
  }
 ],
 "metadata": {
  "kernelspec": {
   "display_name": "Python [conda env:air-analysis]",
   "language": "python",
   "name": "conda-env-air-analysis-py"
  },
  "language_info": {
   "codemirror_mode": {
    "name": "ipython",
    "version": 3
   },
   "file_extension": ".py",
   "mimetype": "text/x-python",
   "name": "python",
   "nbconvert_exporter": "python",
   "pygments_lexer": "ipython3",
   "version": "3.12.0"
  }
 },
 "nbformat": 4,
 "nbformat_minor": 4
}
